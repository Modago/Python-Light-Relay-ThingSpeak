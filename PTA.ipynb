{
 "cells": [
  {
   "cell_type": "code",
   "execution_count": 13,
   "metadata": {},
   "outputs": [
    {
     "data": {
      "text/plain": [
       "'3.4'"
      ]
     },
     "execution_count": 13,
     "metadata": {},
     "output_type": "execute_result"
    }
   ],
   "source": [
    "\n",
    "import serial\n",
    "serial.__version__\n",
    "import serial\n",
    "import time\n",
    "import requests\n",
    "requests.__version__\n",
    "## Read data stored on ThingSpeak.com\n",
    "\n",
    "def project()\n",
    "# c\n",
    "\n",
    "#base_url = 'https://api.thingspeak.com/channels/'\n",
    "#channel_num = '712547'\n",
    "#mid_url = '/fields/'\n",
    "#field_num = '1'\n",
    "#end_url = '.json?results='\n",
    "#results_num ='2'       #number of datapoints, saved as a string\n",
    "\n",
    "#url = base_url + channel_num + mid_url + field_num + end_url + results_num\n",
    "#url \n",
    "    url = 'https://api.thingspeak.com/channels/712547/fields/1.json?results=1'\n",
    "#use the requests library to pull down the data from thingspeak into a variable\n",
    "\n",
    "    r = requests.get(url)\n",
    "    print(r)\n",
    "    json_data = r.json()\n",
    "    print(json_data['feeds'][0]['field1'])\n",
    "\n",
    "    ser = serial.Serial('/dev/cu.usbserial-DN02SRDI',9600)\n",
    "    time.sleep(2)\n",
    "    print(ser.nam\n",
    "      \n",
    "                                           # check which port was really used\n",
    "#for i in range(1):\n",
    "     \n",
    "    if json_data['feeds'][0]['field1'] == '1':\n",
    "        ser.write(b'H')\n",
    "        # turn light on\n",
    "        print('Light is now on')\n",
    "        \n",
    "    elif json_data['feeds'][0]['field1'] == '0':\n",
    "        ser.write(B'L')\n",
    "        # Turn light off\n",
    "        print('Light is now off')\n",
    "        \n",
    "#elif json_data['feeds'][0]['field1'] == '2':\n",
    "    #break\n",
    "    \n",
    "\n",
    "\n",
    "    ser.close()  # close porte)"
   ]
  },
  {
   "cell_type": "code",
   "execution_count": 18,
   "metadata": {},
   "outputs": [
    {
     "name": "stdout",
     "output_type": "stream",
     "text": [
      "/dev/cu.usbserial-DN02SRDI\n"
     ]
    }
   ],
   "source": [
    "ser = serial.Serial('/dev/cu.usbserial-DN02SRDI',9600)\n",
    "time.sleep(2)\n",
    "print(ser.name)"
   ]
  },
  {
   "cell_type": "code",
   "execution_count": 19,
   "metadata": {},
   "outputs": [
    {
     "name": "stdout",
     "output_type": "stream",
     "text": [
      "Light is now on\n"
     ]
    }
   ],
   "source": [
    "                                     # check which port was really used\n",
    "#for i in range(1):\n",
    "     \n",
    "if json_data['feeds'][0]['field1'] == '1':\n",
    "    ser.write(b'H')\n",
    "        # turn light on\n",
    "    print('Light is now on')\n",
    "        \n",
    "elif json_data['feeds'][0]['field1'] == '0':\n",
    "    ser.write(B'L')\n",
    "        # Turn light off\n",
    "    print('Light is now off')\n",
    "        \n",
    "#elif json_data['feeds'][0]['field1'] == '2':\n",
    "    #break\n",
    "    \n",
    "\n",
    "\n",
    "ser.close()  # close port"
   ]
  },
  {
   "cell_type": "code",
   "execution_count": null,
   "metadata": {},
   "outputs": [],
   "source": []
  }
 ],
 "metadata": {
  "kernelspec": {
   "display_name": "Python 3",
   "language": "python",
   "name": "python3"
  },
  "language_info": {
   "codemirror_mode": {
    "name": "ipython",
    "version": 3
   },
   "file_extension": ".py",
   "mimetype": "text/x-python",
   "name": "python",
   "nbconvert_exporter": "python",
   "pygments_lexer": "ipython3",
   "version": "3.7.1"
  }
 },
 "nbformat": 4,
 "nbformat_minor": 2
}
